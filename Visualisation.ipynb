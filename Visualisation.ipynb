{
 "cells": [
  {
   "cell_type": "code",
   "execution_count": 2,
   "id": "c6166f66",
   "metadata": {},
   "outputs": [],
   "source": [
    "import pandas as pd\n",
    "import os\n",
    "import numpy as np\n",
    "import matplotlib.pyplot as plt\n",
    "import seaborn as sns\n",
    "from geopy.geocoders import Nominatim"
   ]
  },
  {
   "cell_type": "markdown",
   "id": "5584fbf0",
   "metadata": {},
   "source": [
    "## Importation des données :"
   ]
  },
  {
   "cell_type": "code",
   "execution_count": 70,
   "id": "bbeff743",
   "metadata": {},
   "outputs": [],
   "source": [
    "folder = '/home/hiba/projet/transactions-ser'\n",
    "csv_files = [f for f in os.listdir(folder) if f.endswith('.csv')]\n",
    "df = pd.read_csv(os.path.join(folder, csv_files[0]),delimiter=';')\n",
    "common_columns = list(df.columns)"
   ]
  },
  {
   "cell_type": "code",
   "execution_count": 71,
   "id": "bc10cca5",
   "metadata": {},
   "outputs": [
    {
     "name": "stderr",
     "output_type": "stream",
     "text": [
      "/tmp/ipykernel_3147/3742714939.py:5: FutureWarning: The frame.append method is deprecated and will be removed from pandas in a future version. Use pandas.concat instead.\n",
      "  df = df.append(df_temp, ignore_index=False)\n",
      "/tmp/ipykernel_3147/3742714939.py:5: FutureWarning: The frame.append method is deprecated and will be removed from pandas in a future version. Use pandas.concat instead.\n",
      "  df = df.append(df_temp, ignore_index=False)\n",
      "/tmp/ipykernel_3147/3742714939.py:5: FutureWarning: The frame.append method is deprecated and will be removed from pandas in a future version. Use pandas.concat instead.\n",
      "  df = df.append(df_temp, ignore_index=False)\n",
      "/tmp/ipykernel_3147/3742714939.py:5: FutureWarning: The frame.append method is deprecated and will be removed from pandas in a future version. Use pandas.concat instead.\n",
      "  df = df.append(df_temp, ignore_index=False)\n",
      "/tmp/ipykernel_3147/3742714939.py:5: FutureWarning: The frame.append method is deprecated and will be removed from pandas in a future version. Use pandas.concat instead.\n",
      "  df = df.append(df_temp, ignore_index=False)\n",
      "/tmp/ipykernel_3147/3742714939.py:5: FutureWarning: The frame.append method is deprecated and will be removed from pandas in a future version. Use pandas.concat instead.\n",
      "  df = df.append(df_temp, ignore_index=False)\n",
      "/tmp/ipykernel_3147/3742714939.py:5: FutureWarning: The frame.append method is deprecated and will be removed from pandas in a future version. Use pandas.concat instead.\n",
      "  df = df.append(df_temp, ignore_index=False)\n",
      "/tmp/ipykernel_3147/3742714939.py:5: FutureWarning: The frame.append method is deprecated and will be removed from pandas in a future version. Use pandas.concat instead.\n",
      "  df = df.append(df_temp, ignore_index=False)\n",
      "/tmp/ipykernel_3147/3742714939.py:5: FutureWarning: The frame.append method is deprecated and will be removed from pandas in a future version. Use pandas.concat instead.\n",
      "  df = df.append(df_temp, ignore_index=False)\n",
      "/tmp/ipykernel_3147/3742714939.py:5: FutureWarning: The frame.append method is deprecated and will be removed from pandas in a future version. Use pandas.concat instead.\n",
      "  df = df.append(df_temp, ignore_index=False)\n",
      "/tmp/ipykernel_3147/3742714939.py:5: FutureWarning: The frame.append method is deprecated and will be removed from pandas in a future version. Use pandas.concat instead.\n",
      "  df = df.append(df_temp, ignore_index=False)\n",
      "/tmp/ipykernel_3147/3742714939.py:5: FutureWarning: The frame.append method is deprecated and will be removed from pandas in a future version. Use pandas.concat instead.\n",
      "  df = df.append(df_temp, ignore_index=False)\n",
      "/tmp/ipykernel_3147/3742714939.py:5: FutureWarning: The frame.append method is deprecated and will be removed from pandas in a future version. Use pandas.concat instead.\n",
      "  df = df.append(df_temp, ignore_index=False)\n",
      "/tmp/ipykernel_3147/3742714939.py:5: FutureWarning: The frame.append method is deprecated and will be removed from pandas in a future version. Use pandas.concat instead.\n",
      "  df = df.append(df_temp, ignore_index=False)\n",
      "/tmp/ipykernel_3147/3742714939.py:5: FutureWarning: The frame.append method is deprecated and will be removed from pandas in a future version. Use pandas.concat instead.\n",
      "  df = df.append(df_temp, ignore_index=False)\n",
      "/tmp/ipykernel_3147/3742714939.py:5: FutureWarning: The frame.append method is deprecated and will be removed from pandas in a future version. Use pandas.concat instead.\n",
      "  df = df.append(df_temp, ignore_index=False)\n",
      "/tmp/ipykernel_3147/3742714939.py:5: FutureWarning: The frame.append method is deprecated and will be removed from pandas in a future version. Use pandas.concat instead.\n",
      "  df = df.append(df_temp, ignore_index=False)\n",
      "/tmp/ipykernel_3147/3742714939.py:5: FutureWarning: The frame.append method is deprecated and will be removed from pandas in a future version. Use pandas.concat instead.\n",
      "  df = df.append(df_temp, ignore_index=False)\n",
      "/tmp/ipykernel_3147/3742714939.py:5: FutureWarning: The frame.append method is deprecated and will be removed from pandas in a future version. Use pandas.concat instead.\n",
      "  df = df.append(df_temp, ignore_index=False)\n",
      "/tmp/ipykernel_3147/3742714939.py:5: FutureWarning: The frame.append method is deprecated and will be removed from pandas in a future version. Use pandas.concat instead.\n",
      "  df = df.append(df_temp, ignore_index=False)\n",
      "/tmp/ipykernel_3147/3742714939.py:5: FutureWarning: The frame.append method is deprecated and will be removed from pandas in a future version. Use pandas.concat instead.\n",
      "  df = df.append(df_temp, ignore_index=False)\n",
      "/tmp/ipykernel_3147/3742714939.py:5: FutureWarning: The frame.append method is deprecated and will be removed from pandas in a future version. Use pandas.concat instead.\n",
      "  df = df.append(df_temp, ignore_index=False)\n",
      "/tmp/ipykernel_3147/3742714939.py:5: FutureWarning: The frame.append method is deprecated and will be removed from pandas in a future version. Use pandas.concat instead.\n",
      "  df = df.append(df_temp, ignore_index=False)\n",
      "/tmp/ipykernel_3147/3742714939.py:5: FutureWarning: The frame.append method is deprecated and will be removed from pandas in a future version. Use pandas.concat instead.\n",
      "  df = df.append(df_temp, ignore_index=False)\n",
      "/tmp/ipykernel_3147/3742714939.py:5: FutureWarning: The frame.append method is deprecated and will be removed from pandas in a future version. Use pandas.concat instead.\n",
      "  df = df.append(df_temp, ignore_index=False)\n",
      "/tmp/ipykernel_3147/3742714939.py:5: FutureWarning: The frame.append method is deprecated and will be removed from pandas in a future version. Use pandas.concat instead.\n",
      "  df = df.append(df_temp, ignore_index=False)\n",
      "/tmp/ipykernel_3147/3742714939.py:5: FutureWarning: The frame.append method is deprecated and will be removed from pandas in a future version. Use pandas.concat instead.\n",
      "  df = df.append(df_temp, ignore_index=False)\n",
      "/tmp/ipykernel_3147/3742714939.py:5: FutureWarning: The frame.append method is deprecated and will be removed from pandas in a future version. Use pandas.concat instead.\n",
      "  df = df.append(df_temp, ignore_index=False)\n",
      "/tmp/ipykernel_3147/3742714939.py:5: FutureWarning: The frame.append method is deprecated and will be removed from pandas in a future version. Use pandas.concat instead.\n",
      "  df = df.append(df_temp, ignore_index=False)\n",
      "/tmp/ipykernel_3147/3742714939.py:5: FutureWarning: The frame.append method is deprecated and will be removed from pandas in a future version. Use pandas.concat instead.\n",
      "  df = df.append(df_temp, ignore_index=False)\n",
      "/tmp/ipykernel_3147/3742714939.py:5: FutureWarning: The frame.append method is deprecated and will be removed from pandas in a future version. Use pandas.concat instead.\n",
      "  df = df.append(df_temp, ignore_index=False)\n",
      "/tmp/ipykernel_3147/3742714939.py:5: FutureWarning: The frame.append method is deprecated and will be removed from pandas in a future version. Use pandas.concat instead.\n",
      "  df = df.append(df_temp, ignore_index=False)\n",
      "/tmp/ipykernel_3147/3742714939.py:5: FutureWarning: The frame.append method is deprecated and will be removed from pandas in a future version. Use pandas.concat instead.\n",
      "  df = df.append(df_temp, ignore_index=False)\n"
     ]
    }
   ],
   "source": [
    "for file in csv_files[1:]:\n",
    "    df_temp = pd.read_csv(os.path.join(folder, file), delimiter=';')\n",
    "    # Keep only the columns that are present in the first CSV file\n",
    "    df_temp = df_temp[common_columns]\n",
    "    df = df.append(df_temp, ignore_index=False)\n",
    "df.to_csv('merged.csv')"
   ]
  },
  {
   "cell_type": "code",
   "execution_count": 72,
   "id": "c323d061",
   "metadata": {},
   "outputs": [
    {
     "data": {
      "text/html": [
       "<div>\n",
       "<style scoped>\n",
       "    .dataframe tbody tr th:only-of-type {\n",
       "        vertical-align: middle;\n",
       "    }\n",
       "\n",
       "    .dataframe tbody tr th {\n",
       "        vertical-align: top;\n",
       "    }\n",
       "\n",
       "    .dataframe thead th {\n",
       "        text-align: right;\n",
       "    }\n",
       "</style>\n",
       "<table border=\"1\" class=\"dataframe\">\n",
       "  <thead>\n",
       "    <tr style=\"text-align: right;\">\n",
       "      <th></th>\n",
       "      <th>id_mutation</th>\n",
       "      <th>date_mutation</th>\n",
       "      <th>numero_disposition</th>\n",
       "      <th>nature_mutation</th>\n",
       "      <th>valeur_fonciere</th>\n",
       "      <th>adresse_numero</th>\n",
       "      <th>adresse_suffixe</th>\n",
       "      <th>adresse_nom_voie</th>\n",
       "      <th>adresse_code_voie</th>\n",
       "      <th>code_postal</th>\n",
       "      <th>...</th>\n",
       "      <th>surface_reelle_bati</th>\n",
       "      <th>nombre_pieces_principales</th>\n",
       "      <th>code_nature_culture</th>\n",
       "      <th>nature_culture</th>\n",
       "      <th>code_nature_culture_speciale</th>\n",
       "      <th>nature_culture_speciale</th>\n",
       "      <th>surface_terrain</th>\n",
       "      <th>longitude</th>\n",
       "      <th>latitude</th>\n",
       "      <th>section_prefixe</th>\n",
       "    </tr>\n",
       "  </thead>\n",
       "  <tbody>\n",
       "    <tr>\n",
       "      <th>0</th>\n",
       "      <td>2022-359835</td>\n",
       "      <td>2022-03-18</td>\n",
       "      <td>1</td>\n",
       "      <td>Vente</td>\n",
       "      <td>115000.0</td>\n",
       "      <td>9001.0</td>\n",
       "      <td>None</td>\n",
       "      <td>IMMEUBLE ATLANTIDE</td>\n",
       "      <td>A651</td>\n",
       "      <td>76800</td>\n",
       "      <td>...</td>\n",
       "      <td>110.0</td>\n",
       "      <td>6.0</td>\n",
       "      <td>None</td>\n",
       "      <td>None</td>\n",
       "      <td>None</td>\n",
       "      <td>None</td>\n",
       "      <td>NaN</td>\n",
       "      <td>1.071577</td>\n",
       "      <td>49.393501</td>\n",
       "      <td>000BS</td>\n",
       "    </tr>\n",
       "    <tr>\n",
       "      <th>1</th>\n",
       "      <td>2022-359835</td>\n",
       "      <td>2022-03-18</td>\n",
       "      <td>1</td>\n",
       "      <td>Vente</td>\n",
       "      <td>115000.0</td>\n",
       "      <td>9001.0</td>\n",
       "      <td>None</td>\n",
       "      <td>IMMEUBLE ATLANTIDE</td>\n",
       "      <td>A651</td>\n",
       "      <td>76800</td>\n",
       "      <td>...</td>\n",
       "      <td>NaN</td>\n",
       "      <td>0.0</td>\n",
       "      <td>None</td>\n",
       "      <td>None</td>\n",
       "      <td>None</td>\n",
       "      <td>None</td>\n",
       "      <td>NaN</td>\n",
       "      <td>1.071577</td>\n",
       "      <td>49.393501</td>\n",
       "      <td>000BS</td>\n",
       "    </tr>\n",
       "    <tr>\n",
       "      <th>2</th>\n",
       "      <td>2022-359041</td>\n",
       "      <td>2022-01-18</td>\n",
       "      <td>1</td>\n",
       "      <td>Vente</td>\n",
       "      <td>181300.0</td>\n",
       "      <td>4.0</td>\n",
       "      <td>None</td>\n",
       "      <td>ALL DU CLOS MAJORELLE</td>\n",
       "      <td>0517</td>\n",
       "      <td>76800</td>\n",
       "      <td>...</td>\n",
       "      <td>83.0</td>\n",
       "      <td>4.0</td>\n",
       "      <td>S</td>\n",
       "      <td>sols</td>\n",
       "      <td>None</td>\n",
       "      <td>None</td>\n",
       "      <td>97.0</td>\n",
       "      <td>1.068890</td>\n",
       "      <td>49.391763</td>\n",
       "      <td>000BS</td>\n",
       "    </tr>\n",
       "    <tr>\n",
       "      <th>3</th>\n",
       "      <td>2022-359041</td>\n",
       "      <td>2022-01-18</td>\n",
       "      <td>1</td>\n",
       "      <td>Vente</td>\n",
       "      <td>181300.0</td>\n",
       "      <td>4.0</td>\n",
       "      <td>None</td>\n",
       "      <td>ALL DU CLOS MAJORELLE</td>\n",
       "      <td>0517</td>\n",
       "      <td>76800</td>\n",
       "      <td>...</td>\n",
       "      <td>NaN</td>\n",
       "      <td>0.0</td>\n",
       "      <td>S</td>\n",
       "      <td>sols</td>\n",
       "      <td>None</td>\n",
       "      <td>None</td>\n",
       "      <td>12.0</td>\n",
       "      <td>1.068805</td>\n",
       "      <td>49.391922</td>\n",
       "      <td>000BS</td>\n",
       "    </tr>\n",
       "    <tr>\n",
       "      <th>4</th>\n",
       "      <td>2022-359041</td>\n",
       "      <td>2022-01-18</td>\n",
       "      <td>1</td>\n",
       "      <td>Vente</td>\n",
       "      <td>181300.0</td>\n",
       "      <td>1.0</td>\n",
       "      <td>None</td>\n",
       "      <td>ALL DU CLOS MAJORELLE</td>\n",
       "      <td>0517</td>\n",
       "      <td>76800</td>\n",
       "      <td>...</td>\n",
       "      <td>NaN</td>\n",
       "      <td>0.0</td>\n",
       "      <td>S</td>\n",
       "      <td>sols</td>\n",
       "      <td>None</td>\n",
       "      <td>None</td>\n",
       "      <td>13.0</td>\n",
       "      <td>1.068709</td>\n",
       "      <td>49.392102</td>\n",
       "      <td>000BS</td>\n",
       "    </tr>\n",
       "    <tr>\n",
       "      <th>...</th>\n",
       "      <td>...</td>\n",
       "      <td>...</td>\n",
       "      <td>...</td>\n",
       "      <td>...</td>\n",
       "      <td>...</td>\n",
       "      <td>...</td>\n",
       "      <td>...</td>\n",
       "      <td>...</td>\n",
       "      <td>...</td>\n",
       "      <td>...</td>\n",
       "      <td>...</td>\n",
       "      <td>...</td>\n",
       "      <td>...</td>\n",
       "      <td>...</td>\n",
       "      <td>...</td>\n",
       "      <td>...</td>\n",
       "      <td>...</td>\n",
       "      <td>...</td>\n",
       "      <td>...</td>\n",
       "      <td>...</td>\n",
       "      <td>...</td>\n",
       "    </tr>\n",
       "    <tr>\n",
       "      <th>89</th>\n",
       "      <td>2017-545059</td>\n",
       "      <td>2017-10-25</td>\n",
       "      <td>1</td>\n",
       "      <td>Vente</td>\n",
       "      <td>170000.0</td>\n",
       "      <td>171.0</td>\n",
       "      <td>None</td>\n",
       "      <td>RUE DE PARIS</td>\n",
       "      <td>1840</td>\n",
       "      <td>76800</td>\n",
       "      <td>...</td>\n",
       "      <td>140.0</td>\n",
       "      <td>6.0</td>\n",
       "      <td>S</td>\n",
       "      <td>sols</td>\n",
       "      <td>None</td>\n",
       "      <td>None</td>\n",
       "      <td>727.0</td>\n",
       "      <td>1.106699</td>\n",
       "      <td>49.388487</td>\n",
       "      <td>000BD</td>\n",
       "    </tr>\n",
       "    <tr>\n",
       "      <th>90</th>\n",
       "      <td>2017-544418</td>\n",
       "      <td>2017-09-26</td>\n",
       "      <td>1</td>\n",
       "      <td>Vente</td>\n",
       "      <td>174000.0</td>\n",
       "      <td>19.0</td>\n",
       "      <td>None</td>\n",
       "      <td>RUE DE LA REPUBLIQUE</td>\n",
       "      <td>2180</td>\n",
       "      <td>76800</td>\n",
       "      <td>...</td>\n",
       "      <td>57.0</td>\n",
       "      <td>4.0</td>\n",
       "      <td>S</td>\n",
       "      <td>sols</td>\n",
       "      <td>None</td>\n",
       "      <td>None</td>\n",
       "      <td>448.0</td>\n",
       "      <td>1.105192</td>\n",
       "      <td>49.389305</td>\n",
       "      <td>000BD</td>\n",
       "    </tr>\n",
       "    <tr>\n",
       "      <th>91</th>\n",
       "      <td>2017-544418</td>\n",
       "      <td>2017-09-26</td>\n",
       "      <td>1</td>\n",
       "      <td>Vente</td>\n",
       "      <td>174000.0</td>\n",
       "      <td>15.0</td>\n",
       "      <td>None</td>\n",
       "      <td>RUE DE LA REPUBLIQUE</td>\n",
       "      <td>2180</td>\n",
       "      <td>76800</td>\n",
       "      <td>...</td>\n",
       "      <td>NaN</td>\n",
       "      <td>NaN</td>\n",
       "      <td>S</td>\n",
       "      <td>sols</td>\n",
       "      <td>None</td>\n",
       "      <td>None</td>\n",
       "      <td>220.0</td>\n",
       "      <td>1.104911</td>\n",
       "      <td>49.389243</td>\n",
       "      <td>000BD</td>\n",
       "    </tr>\n",
       "    <tr>\n",
       "      <th>92</th>\n",
       "      <td>2017-543711</td>\n",
       "      <td>2017-08-07</td>\n",
       "      <td>1</td>\n",
       "      <td>Vente</td>\n",
       "      <td>250000.0</td>\n",
       "      <td>145.0</td>\n",
       "      <td>None</td>\n",
       "      <td>RUE DE PARIS</td>\n",
       "      <td>1840</td>\n",
       "      <td>76800</td>\n",
       "      <td>...</td>\n",
       "      <td>153.0</td>\n",
       "      <td>5.0</td>\n",
       "      <td>J</td>\n",
       "      <td>jardins</td>\n",
       "      <td>POTAG</td>\n",
       "      <td>Jardin potager</td>\n",
       "      <td>685.0</td>\n",
       "      <td>1.106324</td>\n",
       "      <td>49.389849</td>\n",
       "      <td>000BD</td>\n",
       "    </tr>\n",
       "    <tr>\n",
       "      <th>93</th>\n",
       "      <td>2017-543711</td>\n",
       "      <td>2017-08-07</td>\n",
       "      <td>1</td>\n",
       "      <td>Vente</td>\n",
       "      <td>250000.0</td>\n",
       "      <td>145.0</td>\n",
       "      <td>None</td>\n",
       "      <td>RUE DE PARIS</td>\n",
       "      <td>1840</td>\n",
       "      <td>76800</td>\n",
       "      <td>...</td>\n",
       "      <td>153.0</td>\n",
       "      <td>5.0</td>\n",
       "      <td>S</td>\n",
       "      <td>sols</td>\n",
       "      <td>None</td>\n",
       "      <td>None</td>\n",
       "      <td>500.0</td>\n",
       "      <td>1.106324</td>\n",
       "      <td>49.389849</td>\n",
       "      <td>000BD</td>\n",
       "    </tr>\n",
       "  </tbody>\n",
       "</table>\n",
       "<p>2972 rows × 41 columns</p>\n",
       "</div>"
      ],
      "text/plain": [
       "    id_mutation date_mutation  numero_disposition nature_mutation  \\\n",
       "0   2022-359835    2022-03-18                   1           Vente   \n",
       "1   2022-359835    2022-03-18                   1           Vente   \n",
       "2   2022-359041    2022-01-18                   1           Vente   \n",
       "3   2022-359041    2022-01-18                   1           Vente   \n",
       "4   2022-359041    2022-01-18                   1           Vente   \n",
       "..          ...           ...                 ...             ...   \n",
       "89  2017-545059    2017-10-25                   1           Vente   \n",
       "90  2017-544418    2017-09-26                   1           Vente   \n",
       "91  2017-544418    2017-09-26                   1           Vente   \n",
       "92  2017-543711    2017-08-07                   1           Vente   \n",
       "93  2017-543711    2017-08-07                   1           Vente   \n",
       "\n",
       "    valeur_fonciere  adresse_numero adresse_suffixe       adresse_nom_voie  \\\n",
       "0          115000.0          9001.0            None     IMMEUBLE ATLANTIDE   \n",
       "1          115000.0          9001.0            None     IMMEUBLE ATLANTIDE   \n",
       "2          181300.0             4.0            None  ALL DU CLOS MAJORELLE   \n",
       "3          181300.0             4.0            None  ALL DU CLOS MAJORELLE   \n",
       "4          181300.0             1.0            None  ALL DU CLOS MAJORELLE   \n",
       "..              ...             ...             ...                    ...   \n",
       "89         170000.0           171.0            None           RUE DE PARIS   \n",
       "90         174000.0            19.0            None   RUE DE LA REPUBLIQUE   \n",
       "91         174000.0            15.0            None   RUE DE LA REPUBLIQUE   \n",
       "92         250000.0           145.0            None           RUE DE PARIS   \n",
       "93         250000.0           145.0            None           RUE DE PARIS   \n",
       "\n",
       "   adresse_code_voie code_postal  ...  surface_reelle_bati  \\\n",
       "0               A651       76800  ...                110.0   \n",
       "1               A651       76800  ...                  NaN   \n",
       "2               0517       76800  ...                 83.0   \n",
       "3               0517       76800  ...                  NaN   \n",
       "4               0517       76800  ...                  NaN   \n",
       "..               ...         ...  ...                  ...   \n",
       "89              1840       76800  ...                140.0   \n",
       "90              2180       76800  ...                 57.0   \n",
       "91              2180       76800  ...                  NaN   \n",
       "92              1840       76800  ...                153.0   \n",
       "93              1840       76800  ...                153.0   \n",
       "\n",
       "   nombre_pieces_principales  code_nature_culture nature_culture  \\\n",
       "0                        6.0                 None           None   \n",
       "1                        0.0                 None           None   \n",
       "2                        4.0                    S           sols   \n",
       "3                        0.0                    S           sols   \n",
       "4                        0.0                    S           sols   \n",
       "..                       ...                  ...            ...   \n",
       "89                       6.0                    S           sols   \n",
       "90                       4.0                    S           sols   \n",
       "91                       NaN                    S           sols   \n",
       "92                       5.0                    J        jardins   \n",
       "93                       5.0                    S           sols   \n",
       "\n",
       "   code_nature_culture_speciale nature_culture_speciale surface_terrain  \\\n",
       "0                          None                    None             NaN   \n",
       "1                          None                    None             NaN   \n",
       "2                          None                    None            97.0   \n",
       "3                          None                    None            12.0   \n",
       "4                          None                    None            13.0   \n",
       "..                          ...                     ...             ...   \n",
       "89                         None                    None           727.0   \n",
       "90                         None                    None           448.0   \n",
       "91                         None                    None           220.0   \n",
       "92                        POTAG          Jardin potager           685.0   \n",
       "93                         None                    None           500.0   \n",
       "\n",
       "   longitude   latitude  section_prefixe  \n",
       "0   1.071577  49.393501            000BS  \n",
       "1   1.071577  49.393501            000BS  \n",
       "2   1.068890  49.391763            000BS  \n",
       "3   1.068805  49.391922            000BS  \n",
       "4   1.068709  49.392102            000BS  \n",
       "..       ...        ...              ...  \n",
       "89  1.106699  49.388487            000BD  \n",
       "90  1.105192  49.389305            000BD  \n",
       "91  1.104911  49.389243            000BD  \n",
       "92  1.106324  49.389849            000BD  \n",
       "93  1.106324  49.389849            000BD  \n",
       "\n",
       "[2972 rows x 41 columns]"
      ]
     },
     "execution_count": 72,
     "metadata": {},
     "output_type": "execute_result"
    }
   ],
   "source": [
    "df = df.replace({'None': None, 'nan': float('nan')})\n",
    "df"
   ]
  },
  {
   "cell_type": "markdown",
   "id": "4bb50298",
   "metadata": {},
   "source": [
    "### Nettoyage du dataFrame"
   ]
  },
  {
   "cell_type": "code",
   "execution_count": 74,
   "id": "cdcd5c78",
   "metadata": {},
   "outputs": [
    {
     "name": "stdout",
     "output_type": "stream",
     "text": [
      "<class 'pandas.core.frame.DataFrame'>\n",
      "Int64Index: 2972 entries, 0 to 93\n",
      "Data columns (total 41 columns):\n",
      " #   Column                        Non-Null Count  Dtype  \n",
      "---  ------                        --------------  -----  \n",
      " 0   id_mutation                   2972 non-null   object \n",
      " 1   date_mutation                 2972 non-null   object \n",
      " 2   numero_disposition            2972 non-null   int64  \n",
      " 3   nature_mutation               2972 non-null   object \n",
      " 4   valeur_fonciere               2922 non-null   float64\n",
      " 5   adresse_numero                2487 non-null   float64\n",
      " 6   adresse_suffixe               117 non-null    object \n",
      " 7   adresse_nom_voie              2957 non-null   object \n",
      " 8   adresse_code_voie             2957 non-null   object \n",
      " 9   code_postal                   2957 non-null   object \n",
      " 10  code_commune                  2972 non-null   int64  \n",
      " 11  nom_commune                   2972 non-null   object \n",
      " 12  code_departement              2972 non-null   int64  \n",
      " 13  ancien_code_commune           0 non-null      object \n",
      " 14  ancien_nom_commune            0 non-null      object \n",
      " 15  id_parcelle                   2972 non-null   object \n",
      " 16  ancien_id_parcelle            0 non-null      object \n",
      " 17  numero_volume                 6 non-null      object \n",
      " 18  lot1_numero                   447 non-null    object \n",
      " 19  lot1_surface_carrez           164 non-null    float64\n",
      " 20  lot2_numero                   163 non-null    object \n",
      " 21  lot2_surface_carrez           34 non-null     float64\n",
      " 22  lot3_numero                   62 non-null     object \n",
      " 23  lot3_surface_carrez           10 non-null     float64\n",
      " 24  lot4_numero                   4 non-null      object \n",
      " 25  lot4_surface_carrez           0 non-null      object \n",
      " 26  lot5_numero                   4 non-null      object \n",
      " 27  lot5_surface_carrez           0 non-null      object \n",
      " 28  nombre_lots                   2972 non-null   int64  \n",
      " 29  code_type_local               2199 non-null   object \n",
      " 30  type_local                    2199 non-null   object \n",
      " 31  surface_reelle_bati           1613 non-null   float64\n",
      " 32  nombre_pieces_principales     2197 non-null   float64\n",
      " 33  code_nature_culture           2515 non-null   object \n",
      " 34  nature_culture                2515 non-null   object \n",
      " 35  code_nature_culture_speciale  88 non-null     object \n",
      " 36  nature_culture_speciale       88 non-null     object \n",
      " 37  surface_terrain               2515 non-null   float64\n",
      " 38  longitude                     2945 non-null   float64\n",
      " 39  latitude                      2945 non-null   float64\n",
      " 40  section_prefixe               2972 non-null   object \n",
      "dtypes: float64(10), int64(4), object(27)\n",
      "memory usage: 975.2+ KB\n"
     ]
    }
   ],
   "source": [
    "df.info()"
   ]
  },
  {
   "cell_type": "markdown",
   "id": "dbd59b34",
   "metadata": {},
   "source": [
    "On commence par supprimer les colonnes qui ont 50% de valeurs null"
   ]
  },
  {
   "cell_type": "code",
   "execution_count": 75,
   "id": "f968590a",
   "metadata": {},
   "outputs": [
    {
     "name": "stdout",
     "output_type": "stream",
     "text": [
      "<class 'pandas.core.frame.DataFrame'>\n",
      "Int64Index: 2972 entries, 0 to 93\n",
      "Data columns (total 24 columns):\n",
      " #   Column                     Non-Null Count  Dtype  \n",
      "---  ------                     --------------  -----  \n",
      " 0   id_mutation                2972 non-null   object \n",
      " 1   date_mutation              2972 non-null   object \n",
      " 2   numero_disposition         2972 non-null   int64  \n",
      " 3   nature_mutation            2972 non-null   object \n",
      " 4   valeur_fonciere            2922 non-null   float64\n",
      " 5   adresse_numero             2487 non-null   float64\n",
      " 6   adresse_nom_voie           2957 non-null   object \n",
      " 7   adresse_code_voie          2957 non-null   object \n",
      " 8   code_postal                2957 non-null   object \n",
      " 9   code_commune               2972 non-null   int64  \n",
      " 10  nom_commune                2972 non-null   object \n",
      " 11  code_departement           2972 non-null   int64  \n",
      " 12  id_parcelle                2972 non-null   object \n",
      " 13  nombre_lots                2972 non-null   int64  \n",
      " 14  code_type_local            2199 non-null   object \n",
      " 15  type_local                 2199 non-null   object \n",
      " 16  surface_reelle_bati        1613 non-null   float64\n",
      " 17  nombre_pieces_principales  2197 non-null   float64\n",
      " 18  code_nature_culture        2515 non-null   object \n",
      " 19  nature_culture             2515 non-null   object \n",
      " 20  surface_terrain            2515 non-null   float64\n",
      " 21  longitude                  2945 non-null   float64\n",
      " 22  latitude                   2945 non-null   float64\n",
      " 23  section_prefixe            2972 non-null   object \n",
      "dtypes: float64(7), int64(4), object(13)\n",
      "memory usage: 580.5+ KB\n"
     ]
    }
   ],
   "source": [
    "df = df.dropna(thresh=len(df) * 0.5, axis=1)\n",
    "df.info()"
   ]
  },
  {
   "cell_type": "markdown",
   "id": "2b28af75",
   "metadata": {},
   "source": [
    "Puis on supprime les lignes ou on a des valeurs nulls ainsi que les valeurs dupliqués"
   ]
  },
  {
   "cell_type": "code",
   "execution_count": 76,
   "id": "f0dafdb1",
   "metadata": {},
   "outputs": [
    {
     "name": "stdout",
     "output_type": "stream",
     "text": [
      "<class 'pandas.core.frame.DataFrame'>\n",
      "Int64Index: 1221 entries, 2 to 93\n",
      "Data columns (total 24 columns):\n",
      " #   Column                     Non-Null Count  Dtype  \n",
      "---  ------                     --------------  -----  \n",
      " 0   id_mutation                1221 non-null   object \n",
      " 1   date_mutation              1221 non-null   object \n",
      " 2   numero_disposition         1221 non-null   int64  \n",
      " 3   nature_mutation            1221 non-null   object \n",
      " 4   valeur_fonciere            1221 non-null   float64\n",
      " 5   adresse_numero             1221 non-null   float64\n",
      " 6   adresse_nom_voie           1221 non-null   object \n",
      " 7   adresse_code_voie          1221 non-null   object \n",
      " 8   code_postal                1221 non-null   object \n",
      " 9   code_commune               1221 non-null   int64  \n",
      " 10  nom_commune                1221 non-null   object \n",
      " 11  code_departement           1221 non-null   int64  \n",
      " 12  id_parcelle                1221 non-null   object \n",
      " 13  nombre_lots                1221 non-null   int64  \n",
      " 14  code_type_local            1221 non-null   object \n",
      " 15  type_local                 1221 non-null   object \n",
      " 16  surface_reelle_bati        1221 non-null   float64\n",
      " 17  nombre_pieces_principales  1221 non-null   float64\n",
      " 18  code_nature_culture        1221 non-null   object \n",
      " 19  nature_culture             1221 non-null   object \n",
      " 20  surface_terrain            1221 non-null   float64\n",
      " 21  longitude                  1221 non-null   float64\n",
      " 22  latitude                   1221 non-null   float64\n",
      " 23  section_prefixe            1221 non-null   object \n",
      "dtypes: float64(7), int64(4), object(13)\n",
      "memory usage: 238.5+ KB\n"
     ]
    }
   ],
   "source": [
    "df = df.dropna(axis=0)\n",
    "df = df.drop_duplicates()\n",
    "df.info()"
   ]
  },
  {
   "cell_type": "markdown",
   "id": "cdc79be9",
   "metadata": {},
   "source": [
    "Vu qu'on s'intéresse qu'aux maisons et aux appratements, on va supprimer les autres valeurs sur la colonne \"type_local\""
   ]
  },
  {
   "cell_type": "code",
   "execution_count": 77,
   "id": "5012f7cb",
   "metadata": {},
   "outputs": [],
   "source": [
    "df = df.drop(df[df[\"type_local\"] == 'Local industriel. commercial ou assimilé'].index)"
   ]
  },
  {
   "cell_type": "markdown",
   "id": "e0cf32be",
   "metadata": {},
   "source": [
    "Puis on va supprimer les colonnes qui ont des valeurs redondantes"
   ]
  },
  {
   "cell_type": "code",
   "execution_count": 78,
   "id": "bff67246",
   "metadata": {
    "scrolled": false
   },
   "outputs": [],
   "source": [
    "df['code_type_local'] = pd.to_numeric(df['code_type_local'], errors='coerce', downcast='integer')\n",
    "df = df.drop(['id_mutation','code_postal','code_commune', 'section_prefixe','nom_commune','code_departement','id_parcelle'], axis=1)"
   ]
  },
  {
   "cell_type": "code",
   "execution_count": null,
   "id": "3e8ba986",
   "metadata": {},
   "outputs": [],
   "source": []
  },
  {
   "cell_type": "code",
   "execution_count": 79,
   "id": "24301a31",
   "metadata": {},
   "outputs": [
    {
     "name": "stdout",
     "output_type": "stream",
     "text": [
      "<class 'pandas.core.frame.DataFrame'>\n",
      "Int64Index: 612 entries, 21 to 92\n",
      "Data columns (total 17 columns):\n",
      " #   Column                     Non-Null Count  Dtype  \n",
      "---  ------                     --------------  -----  \n",
      " 0   date_mutation              612 non-null    object \n",
      " 1   numero_disposition         612 non-null    int64  \n",
      " 2   nature_mutation            612 non-null    object \n",
      " 3   valeur_fonciere            612 non-null    float64\n",
      " 4   adresse_numero             612 non-null    float64\n",
      " 5   adresse_nom_voie           612 non-null    object \n",
      " 6   adresse_code_voie          612 non-null    object \n",
      " 7   nombre_lots                612 non-null    int64  \n",
      " 8   code_type_local            612 non-null    int8   \n",
      " 9   type_local                 612 non-null    object \n",
      " 10  surface_reelle_bati        612 non-null    float64\n",
      " 11  nombre_pieces_principales  612 non-null    float64\n",
      " 12  code_nature_culture        612 non-null    object \n",
      " 13  nature_culture             612 non-null    object \n",
      " 14  surface_terrain            612 non-null    float64\n",
      " 15  longitude                  612 non-null    float64\n",
      " 16  latitude                   612 non-null    float64\n",
      "dtypes: float64(7), int64(2), int8(1), object(7)\n",
      "memory usage: 81.9+ KB\n"
     ]
    }
   ],
   "source": [
    "df.info()"
   ]
  },
  {
   "cell_type": "code",
   "execution_count": 80,
   "id": "2faba766",
   "metadata": {
    "scrolled": false
   },
   "outputs": [
    {
     "data": {
      "text/html": [
       "<div>\n",
       "<style scoped>\n",
       "    .dataframe tbody tr th:only-of-type {\n",
       "        vertical-align: middle;\n",
       "    }\n",
       "\n",
       "    .dataframe tbody tr th {\n",
       "        vertical-align: top;\n",
       "    }\n",
       "\n",
       "    .dataframe thead th {\n",
       "        text-align: right;\n",
       "    }\n",
       "</style>\n",
       "<table border=\"1\" class=\"dataframe\">\n",
       "  <thead>\n",
       "    <tr style=\"text-align: right;\">\n",
       "      <th></th>\n",
       "      <th>date_mutation</th>\n",
       "      <th>numero_disposition</th>\n",
       "      <th>nature_mutation</th>\n",
       "      <th>valeur_fonciere</th>\n",
       "      <th>adresse_numero</th>\n",
       "      <th>adresse_nom_voie</th>\n",
       "      <th>adresse_code_voie</th>\n",
       "      <th>nombre_lots</th>\n",
       "      <th>code_type_local</th>\n",
       "      <th>type_local</th>\n",
       "      <th>surface_reelle_bati</th>\n",
       "      <th>nombre_pieces_principales</th>\n",
       "      <th>code_nature_culture</th>\n",
       "      <th>nature_culture</th>\n",
       "      <th>surface_terrain</th>\n",
       "      <th>longitude</th>\n",
       "      <th>latitude</th>\n",
       "    </tr>\n",
       "  </thead>\n",
       "  <tbody>\n",
       "    <tr>\n",
       "      <th>21</th>\n",
       "      <td>2021-05-28</td>\n",
       "      <td>1</td>\n",
       "      <td>Vente</td>\n",
       "      <td>375000.0</td>\n",
       "      <td>9.0</td>\n",
       "      <td>RES DU ROUVRAY 1</td>\n",
       "      <td>A751</td>\n",
       "      <td>0</td>\n",
       "      <td>1</td>\n",
       "      <td>Maison</td>\n",
       "      <td>129.0</td>\n",
       "      <td>4.0</td>\n",
       "      <td>S</td>\n",
       "      <td>sols</td>\n",
       "      <td>1765.0</td>\n",
       "      <td>1.062906</td>\n",
       "      <td>49.390630</td>\n",
       "    </tr>\n",
       "    <tr>\n",
       "      <th>26</th>\n",
       "      <td>2021-03-30</td>\n",
       "      <td>1</td>\n",
       "      <td>Vente</td>\n",
       "      <td>258000.0</td>\n",
       "      <td>4.0</td>\n",
       "      <td>RUE MADELEINE</td>\n",
       "      <td>1570</td>\n",
       "      <td>0</td>\n",
       "      <td>1</td>\n",
       "      <td>Maison</td>\n",
       "      <td>110.0</td>\n",
       "      <td>5.0</td>\n",
       "      <td>S</td>\n",
       "      <td>sols</td>\n",
       "      <td>496.0</td>\n",
       "      <td>1.064820</td>\n",
       "      <td>49.392608</td>\n",
       "    </tr>\n",
       "    <tr>\n",
       "      <th>32</th>\n",
       "      <td>2021-02-17</td>\n",
       "      <td>1</td>\n",
       "      <td>Vente</td>\n",
       "      <td>518100.0</td>\n",
       "      <td>11.0</td>\n",
       "      <td>RES DU ROUVRAY 1</td>\n",
       "      <td>A751</td>\n",
       "      <td>0</td>\n",
       "      <td>1</td>\n",
       "      <td>Maison</td>\n",
       "      <td>225.0</td>\n",
       "      <td>7.0</td>\n",
       "      <td>S</td>\n",
       "      <td>sols</td>\n",
       "      <td>2580.0</td>\n",
       "      <td>1.063380</td>\n",
       "      <td>49.391146</td>\n",
       "    </tr>\n",
       "    <tr>\n",
       "      <th>35</th>\n",
       "      <td>2021-02-16</td>\n",
       "      <td>1</td>\n",
       "      <td>Vente</td>\n",
       "      <td>210100.0</td>\n",
       "      <td>1.0</td>\n",
       "      <td>RUE MAURICE RAVEL</td>\n",
       "      <td>1670</td>\n",
       "      <td>0</td>\n",
       "      <td>1</td>\n",
       "      <td>Maison</td>\n",
       "      <td>76.0</td>\n",
       "      <td>4.0</td>\n",
       "      <td>S</td>\n",
       "      <td>sols</td>\n",
       "      <td>583.0</td>\n",
       "      <td>1.061246</td>\n",
       "      <td>49.393128</td>\n",
       "    </tr>\n",
       "    <tr>\n",
       "      <th>38</th>\n",
       "      <td>2021-01-12</td>\n",
       "      <td>1</td>\n",
       "      <td>Vente</td>\n",
       "      <td>137000.0</td>\n",
       "      <td>2.0</td>\n",
       "      <td>RUE MAURICE RAVEL</td>\n",
       "      <td>1670</td>\n",
       "      <td>0</td>\n",
       "      <td>1</td>\n",
       "      <td>Maison</td>\n",
       "      <td>63.0</td>\n",
       "      <td>4.0</td>\n",
       "      <td>S</td>\n",
       "      <td>sols</td>\n",
       "      <td>581.0</td>\n",
       "      <td>1.061040</td>\n",
       "      <td>49.392848</td>\n",
       "    </tr>\n",
       "    <tr>\n",
       "      <th>...</th>\n",
       "      <td>...</td>\n",
       "      <td>...</td>\n",
       "      <td>...</td>\n",
       "      <td>...</td>\n",
       "      <td>...</td>\n",
       "      <td>...</td>\n",
       "      <td>...</td>\n",
       "      <td>...</td>\n",
       "      <td>...</td>\n",
       "      <td>...</td>\n",
       "      <td>...</td>\n",
       "      <td>...</td>\n",
       "      <td>...</td>\n",
       "      <td>...</td>\n",
       "      <td>...</td>\n",
       "      <td>...</td>\n",
       "      <td>...</td>\n",
       "    </tr>\n",
       "    <tr>\n",
       "      <th>81</th>\n",
       "      <td>2018-06-29</td>\n",
       "      <td>2</td>\n",
       "      <td>Vente</td>\n",
       "      <td>131000.0</td>\n",
       "      <td>39.0</td>\n",
       "      <td>RUE DE LA REPUBLIQUE</td>\n",
       "      <td>2180</td>\n",
       "      <td>0</td>\n",
       "      <td>1</td>\n",
       "      <td>Maison</td>\n",
       "      <td>77.0</td>\n",
       "      <td>4.0</td>\n",
       "      <td>S</td>\n",
       "      <td>sols</td>\n",
       "      <td>59.0</td>\n",
       "      <td>1.105046</td>\n",
       "      <td>49.388205</td>\n",
       "    </tr>\n",
       "    <tr>\n",
       "      <th>84</th>\n",
       "      <td>2018-04-06</td>\n",
       "      <td>1</td>\n",
       "      <td>Vente</td>\n",
       "      <td>130000.0</td>\n",
       "      <td>68.0</td>\n",
       "      <td>RUE DE LA REPUBLIQUE</td>\n",
       "      <td>2180</td>\n",
       "      <td>0</td>\n",
       "      <td>1</td>\n",
       "      <td>Maison</td>\n",
       "      <td>96.0</td>\n",
       "      <td>6.0</td>\n",
       "      <td>S</td>\n",
       "      <td>sols</td>\n",
       "      <td>58.0</td>\n",
       "      <td>1.104715</td>\n",
       "      <td>49.388374</td>\n",
       "    </tr>\n",
       "    <tr>\n",
       "      <th>85</th>\n",
       "      <td>2017-12-07</td>\n",
       "      <td>1</td>\n",
       "      <td>Vente</td>\n",
       "      <td>88000.0</td>\n",
       "      <td>24.0</td>\n",
       "      <td>RUE DE LA REPUBLIQUE</td>\n",
       "      <td>2180</td>\n",
       "      <td>0</td>\n",
       "      <td>1</td>\n",
       "      <td>Maison</td>\n",
       "      <td>48.0</td>\n",
       "      <td>3.0</td>\n",
       "      <td>S</td>\n",
       "      <td>sols</td>\n",
       "      <td>30.0</td>\n",
       "      <td>1.104569</td>\n",
       "      <td>49.389613</td>\n",
       "    </tr>\n",
       "    <tr>\n",
       "      <th>88</th>\n",
       "      <td>2017-10-25</td>\n",
       "      <td>1</td>\n",
       "      <td>Vente</td>\n",
       "      <td>170000.0</td>\n",
       "      <td>171.0</td>\n",
       "      <td>RUE DE PARIS</td>\n",
       "      <td>1840</td>\n",
       "      <td>0</td>\n",
       "      <td>1</td>\n",
       "      <td>Maison</td>\n",
       "      <td>140.0</td>\n",
       "      <td>6.0</td>\n",
       "      <td>J</td>\n",
       "      <td>jardins</td>\n",
       "      <td>920.0</td>\n",
       "      <td>1.106699</td>\n",
       "      <td>49.388487</td>\n",
       "    </tr>\n",
       "    <tr>\n",
       "      <th>92</th>\n",
       "      <td>2017-08-07</td>\n",
       "      <td>1</td>\n",
       "      <td>Vente</td>\n",
       "      <td>250000.0</td>\n",
       "      <td>145.0</td>\n",
       "      <td>RUE DE PARIS</td>\n",
       "      <td>1840</td>\n",
       "      <td>0</td>\n",
       "      <td>1</td>\n",
       "      <td>Maison</td>\n",
       "      <td>153.0</td>\n",
       "      <td>5.0</td>\n",
       "      <td>J</td>\n",
       "      <td>jardins</td>\n",
       "      <td>685.0</td>\n",
       "      <td>1.106324</td>\n",
       "      <td>49.389849</td>\n",
       "    </tr>\n",
       "  </tbody>\n",
       "</table>\n",
       "<p>612 rows × 17 columns</p>\n",
       "</div>"
      ],
      "text/plain": [
       "   date_mutation  numero_disposition nature_mutation  valeur_fonciere  \\\n",
       "21    2021-05-28                   1           Vente         375000.0   \n",
       "26    2021-03-30                   1           Vente         258000.0   \n",
       "32    2021-02-17                   1           Vente         518100.0   \n",
       "35    2021-02-16                   1           Vente         210100.0   \n",
       "38    2021-01-12                   1           Vente         137000.0   \n",
       "..           ...                 ...             ...              ...   \n",
       "81    2018-06-29                   2           Vente         131000.0   \n",
       "84    2018-04-06                   1           Vente         130000.0   \n",
       "85    2017-12-07                   1           Vente          88000.0   \n",
       "88    2017-10-25                   1           Vente         170000.0   \n",
       "92    2017-08-07                   1           Vente         250000.0   \n",
       "\n",
       "    adresse_numero      adresse_nom_voie adresse_code_voie  nombre_lots  \\\n",
       "21             9.0      RES DU ROUVRAY 1              A751            0   \n",
       "26             4.0         RUE MADELEINE              1570            0   \n",
       "32            11.0      RES DU ROUVRAY 1              A751            0   \n",
       "35             1.0     RUE MAURICE RAVEL              1670            0   \n",
       "38             2.0     RUE MAURICE RAVEL              1670            0   \n",
       "..             ...                   ...               ...          ...   \n",
       "81            39.0  RUE DE LA REPUBLIQUE              2180            0   \n",
       "84            68.0  RUE DE LA REPUBLIQUE              2180            0   \n",
       "85            24.0  RUE DE LA REPUBLIQUE              2180            0   \n",
       "88           171.0          RUE DE PARIS              1840            0   \n",
       "92           145.0          RUE DE PARIS              1840            0   \n",
       "\n",
       "    code_type_local type_local  surface_reelle_bati  \\\n",
       "21                1     Maison                129.0   \n",
       "26                1     Maison                110.0   \n",
       "32                1     Maison                225.0   \n",
       "35                1     Maison                 76.0   \n",
       "38                1     Maison                 63.0   \n",
       "..              ...        ...                  ...   \n",
       "81                1     Maison                 77.0   \n",
       "84                1     Maison                 96.0   \n",
       "85                1     Maison                 48.0   \n",
       "88                1     Maison                140.0   \n",
       "92                1     Maison                153.0   \n",
       "\n",
       "    nombre_pieces_principales code_nature_culture nature_culture  \\\n",
       "21                        4.0                   S           sols   \n",
       "26                        5.0                   S           sols   \n",
       "32                        7.0                   S           sols   \n",
       "35                        4.0                   S           sols   \n",
       "38                        4.0                   S           sols   \n",
       "..                        ...                 ...            ...   \n",
       "81                        4.0                   S           sols   \n",
       "84                        6.0                   S           sols   \n",
       "85                        3.0                   S           sols   \n",
       "88                        6.0                   J        jardins   \n",
       "92                        5.0                   J        jardins   \n",
       "\n",
       "    surface_terrain  longitude   latitude  \n",
       "21           1765.0   1.062906  49.390630  \n",
       "26            496.0   1.064820  49.392608  \n",
       "32           2580.0   1.063380  49.391146  \n",
       "35            583.0   1.061246  49.393128  \n",
       "38            581.0   1.061040  49.392848  \n",
       "..              ...        ...        ...  \n",
       "81             59.0   1.105046  49.388205  \n",
       "84             58.0   1.104715  49.388374  \n",
       "85             30.0   1.104569  49.389613  \n",
       "88            920.0   1.106699  49.388487  \n",
       "92            685.0   1.106324  49.389849  \n",
       "\n",
       "[612 rows x 17 columns]"
      ]
     },
     "execution_count": 80,
     "metadata": {},
     "output_type": "execute_result"
    }
   ],
   "source": [
    "df"
   ]
  },
  {
   "cell_type": "markdown",
   "id": "f6e4060e",
   "metadata": {},
   "source": [
    "détection d'outliers :"
   ]
  },
  {
   "cell_type": "code",
   "execution_count": 81,
   "id": "481149e6",
   "metadata": {},
   "outputs": [
    {
     "name": "stdout",
     "output_type": "stream",
     "text": [
      "Categorical variables:\n",
      "['date_mutation', 'nature_mutation', 'adresse_nom_voie', 'adresse_code_voie', 'type_local', 'code_nature_culture', 'nature_culture']\n",
      "Integer variables:\n",
      "['numero_disposition', 'nombre_lots']\n",
      "Real variables:\n",
      "['valeur_fonciere', 'adresse_numero', 'surface_reelle_bati', 'nombre_pieces_principales', 'surface_terrain', 'longitude', 'latitude']\n"
     ]
    }
   ],
   "source": [
    "s = (df.dtypes == 'object')\n",
    "object_cols = list(s[s].index)\n",
    "print(\"Categorical variables:\")\n",
    "print(object_cols)\n",
    "\n",
    "s = (df.dtypes == 'int')\n",
    "int_cols = list(s[s].index)\n",
    "print(\"Integer variables:\")\n",
    "print(int_cols)\n",
    "\n",
    "s = (df.dtypes == 'float')\n",
    "float_cols = list(s[s].index)\n",
    "print(\"Real variables:\")\n",
    "print(float_cols)"
   ]
  },
  {
   "cell_type": "code",
   "execution_count": 82,
   "id": "1e7bd19a",
   "metadata": {},
   "outputs": [
    {
     "data": {
      "image/png": "[encoded data removed]",
      "text/plain": [
       "<Figure size 1440x288 with 1 Axes>"
      ]
     },
     "metadata": {
      "needs_background": "light"
     },
     "output_type": "display_data"
    }
   ],
   "source": [
    "df.plot.box(figsize=(20, 4))\n",
    "\n",
    "# Show the plot\n",
    "plt.show()"
   ]
  },
  {
   "cell_type": "code",
   "execution_count": 84,
   "id": "5f92dcd4",
   "metadata": {},
   "outputs": [],
   "source": [
    "largest_st = df['surface_terrain'].nlargest(5)\n",
    "df = df.drop(largest_st.index)\n",
    "largest_vf = df['valeur_fonciere'].nlargest(20)\n",
    "df = df.drop(largest_vf.index)"
   ]
  },
  {
   "cell_type": "code",
   "execution_count": 91,
   "id": "05b1bc7d",
   "metadata": {},
   "outputs": [],
   "source": [
    "largest_vf = df['valeur_fonciere'].nlargest(10) #40\n",
    "df = df.drop(largest_vf.index)"
   ]
  },
  {
   "cell_type": "code",
   "execution_count": 93,
   "id": "01d3ca8c",
   "metadata": {},
   "outputs": [],
   "source": [
    "largest_st = df['surface_terrain'].nlargest(5)\n",
    "df = df.drop(largest_st.index)"
   ]
  },
  {
   "cell_type": "code",
   "execution_count": 105,
   "id": "435c39f3",
   "metadata": {},
   "outputs": [],
   "source": [
    "largest_pp = df['nombre_pieces_principales'].nlargest(5) #10\n",
    "df = df.drop(largest_pp.index)"
   ]
  },
  {
   "cell_type": "code",
   "execution_count": 106,
   "id": "b14a7982",
   "metadata": {},
   "outputs": [
    {
     "data": {
      "image/png": "[encoded data removed]",
      "text/plain": [
       "<Figure size 1440x288 with 1 Axes>"
      ]
     },
     "metadata": {
      "needs_background": "light"
     },
     "output_type": "display_data"
    }
   ],
   "source": [
    "df.plot.box(figsize=(20, 4))\n",
    "\n",
    "# Show the plot\n",
    "plt.show()"
   ]
  },
  {
   "cell_type": "code",
   "execution_count": 128,
   "id": "7b5c923d",
   "metadata": {},
   "outputs": [],
   "source": [
    "largest_pp = df['nombre_pieces_principales'].nsmallest(1) #13\n",
    "df = df.drop(largest_pp.index)"
   ]
  },
  {
   "cell_type": "code",
   "execution_count": 129,
   "id": "590a144d",
   "metadata": {},
   "outputs": [
    {
     "data": {
      "image/png": "[encoded data removed]",
      "text/plain": [
       "<Figure size 1440x288 with 1 Axes>"
      ]
     },
     "metadata": {
      "needs_background": "light"
     },
     "output_type": "display_data"
    }
   ],
   "source": [
    "df['nombre_pieces_principales'].plot.box(figsize=(20, 4))\n",
    "\n",
    "# Show the plot\n",
    "plt.show()"
   ]
  },
  {
   "cell_type": "code",
   "execution_count": 124,
   "id": "1e85bfdd",
   "metadata": {},
   "outputs": [],
   "source": [
    "largest_sr = df['surface_reelle_bati'].nlargest(1) #10\n",
    "df = df.drop(largest_sr.index)"
   ]
  },
  {
   "cell_type": "code",
   "execution_count": 125,
   "id": "f2646e57",
   "metadata": {},
   "outputs": [
    {
     "data": {
      "image/png": "[encoded data removed]",
      "text/plain": [
       "<Figure size 1440x288 with 1 Axes>"
      ]
     },
     "metadata": {
      "needs_background": "light"
     },
     "output_type": "display_data"
    }
   ],
   "source": [
    "df['surface_reelle_bati'].plot.box(figsize=(20, 4))\n",
    "\n",
    "# Show the plot\n",
    "plt.show()"
   ]
  },
  {
   "cell_type": "code",
   "execution_count": 131,
   "id": "7230af74",
   "metadata": {},
   "outputs": [
    {
     "data": {
      "image/png": "[encoded data removed]",
      "text/plain": [
       "<Figure size 1440x288 with 1 Axes>"
      ]
     },
     "metadata": {
      "needs_background": "light"
     },
     "output_type": "display_data"
    }
   ],
   "source": [
    "largest_st = df['surface_terrain'].nlargest(5) #5\n",
    "df = df.drop(largest_st.index)\n",
    "\n",
    "df['surface_terrain'].plot.box(figsize=(20, 4))\n",
    "\n",
    "# Show the plot\n",
    "plt.show()"
   ]
  },
  {
   "cell_type": "code",
   "execution_count": 137,
   "id": "0aa1c106",
   "metadata": {},
   "outputs": [
    {
     "data": {
      "text/html": [
       "<div>\n",
       "<style scoped>\n",
       "    .dataframe tbody tr th:only-of-type {\n",
       "        vertical-align: middle;\n",
       "    }\n",
       "\n",
       "    .dataframe tbody tr th {\n",
       "        vertical-align: top;\n",
       "    }\n",
       "\n",
       "    .dataframe thead th {\n",
       "        text-align: right;\n",
       "    }\n",
       "</style>\n",
       "<table border=\"1\" class=\"dataframe\">\n",
       "  <thead>\n",
       "    <tr style=\"text-align: right;\">\n",
       "      <th></th>\n",
       "      <th>date_mutation</th>\n",
       "      <th>numero_disposition</th>\n",
       "      <th>nature_mutation</th>\n",
       "      <th>valeur_fonciere</th>\n",
       "      <th>adresse_numero</th>\n",
       "      <th>adresse_nom_voie</th>\n",
       "      <th>adresse_code_voie</th>\n",
       "      <th>nombre_lots</th>\n",
       "      <th>code_type_local</th>\n",
       "      <th>type_local</th>\n",
       "      <th>surface_reelle_bati</th>\n",
       "      <th>nombre_pieces_principales</th>\n",
       "      <th>code_nature_culture</th>\n",
       "      <th>nature_culture</th>\n",
       "      <th>surface_terrain</th>\n",
       "      <th>longitude</th>\n",
       "      <th>latitude</th>\n",
       "      <th>Coordinates</th>\n",
       "    </tr>\n",
       "  </thead>\n",
       "  <tbody>\n",
       "    <tr>\n",
       "      <th>110</th>\n",
       "      <td>2019-02-18</td>\n",
       "      <td>1</td>\n",
       "      <td>Vente</td>\n",
       "      <td>112000.00</td>\n",
       "      <td>2.0</td>\n",
       "      <td>RUE HECTOR BERLIOZ</td>\n",
       "      <td>1110</td>\n",
       "      <td>0</td>\n",
       "      <td>1</td>\n",
       "      <td>Maison</td>\n",
       "      <td>63.0</td>\n",
       "      <td>4.0</td>\n",
       "      <td>S</td>\n",
       "      <td>sols</td>\n",
       "      <td>263.0</td>\n",
       "      <td>1.061100</td>\n",
       "      <td>49.394313</td>\n",
       "      <td>POINT (1.06110 49.39431)</td>\n",
       "    </tr>\n",
       "    <tr>\n",
       "      <th>121</th>\n",
       "      <td>2018-06-11</td>\n",
       "      <td>1</td>\n",
       "      <td>Vente</td>\n",
       "      <td>153000.00</td>\n",
       "      <td>13.0</td>\n",
       "      <td>RUE GEORGES BIZET</td>\n",
       "      <td>1020</td>\n",
       "      <td>0</td>\n",
       "      <td>1</td>\n",
       "      <td>Maison</td>\n",
       "      <td>63.0</td>\n",
       "      <td>4.0</td>\n",
       "      <td>S</td>\n",
       "      <td>sols</td>\n",
       "      <td>321.0</td>\n",
       "      <td>1.061597</td>\n",
       "      <td>49.394376</td>\n",
       "      <td>POINT (1.06160 49.39438)</td>\n",
       "    </tr>\n",
       "    <tr>\n",
       "      <th>132</th>\n",
       "      <td>2017-12-20</td>\n",
       "      <td>1</td>\n",
       "      <td>Vente</td>\n",
       "      <td>156650.00</td>\n",
       "      <td>40.0</td>\n",
       "      <td>RUE GEORGES BIZET</td>\n",
       "      <td>1020</td>\n",
       "      <td>0</td>\n",
       "      <td>1</td>\n",
       "      <td>Maison</td>\n",
       "      <td>86.0</td>\n",
       "      <td>5.0</td>\n",
       "      <td>S</td>\n",
       "      <td>sols</td>\n",
       "      <td>520.0</td>\n",
       "      <td>1.061879</td>\n",
       "      <td>49.395061</td>\n",
       "      <td>POINT (1.06188 49.39506)</td>\n",
       "    </tr>\n",
       "    <tr>\n",
       "      <th>146</th>\n",
       "      <td>2017-08-31</td>\n",
       "      <td>1</td>\n",
       "      <td>Vente</td>\n",
       "      <td>150000.00</td>\n",
       "      <td>8.0</td>\n",
       "      <td>RUE MAURICE RAVEL</td>\n",
       "      <td>1670</td>\n",
       "      <td>0</td>\n",
       "      <td>1</td>\n",
       "      <td>Maison</td>\n",
       "      <td>63.0</td>\n",
       "      <td>4.0</td>\n",
       "      <td>S</td>\n",
       "      <td>sols</td>\n",
       "      <td>408.0</td>\n",
       "      <td>1.060593</td>\n",
       "      <td>49.393065</td>\n",
       "      <td>POINT (1.06059 49.39306)</td>\n",
       "    </tr>\n",
       "    <tr>\n",
       "      <th>34</th>\n",
       "      <td>2020-12-21</td>\n",
       "      <td>1</td>\n",
       "      <td>Vente</td>\n",
       "      <td>125000.00</td>\n",
       "      <td>5.0</td>\n",
       "      <td>RUE GEORGES DE MOOR</td>\n",
       "      <td>1040</td>\n",
       "      <td>0</td>\n",
       "      <td>1</td>\n",
       "      <td>Maison</td>\n",
       "      <td>57.0</td>\n",
       "      <td>3.0</td>\n",
       "      <td>S</td>\n",
       "      <td>sols</td>\n",
       "      <td>90.0</td>\n",
       "      <td>1.111510</td>\n",
       "      <td>49.377111</td>\n",
       "      <td>POINT (1.11151 49.37711)</td>\n",
       "    </tr>\n",
       "    <tr>\n",
       "      <th>...</th>\n",
       "      <td>...</td>\n",
       "      <td>...</td>\n",
       "      <td>...</td>\n",
       "      <td>...</td>\n",
       "      <td>...</td>\n",
       "      <td>...</td>\n",
       "      <td>...</td>\n",
       "      <td>...</td>\n",
       "      <td>...</td>\n",
       "      <td>...</td>\n",
       "      <td>...</td>\n",
       "      <td>...</td>\n",
       "      <td>...</td>\n",
       "      <td>...</td>\n",
       "      <td>...</td>\n",
       "      <td>...</td>\n",
       "      <td>...</td>\n",
       "      <td>...</td>\n",
       "    </tr>\n",
       "    <tr>\n",
       "      <th>121</th>\n",
       "      <td>2017-10-16</td>\n",
       "      <td>1</td>\n",
       "      <td>Vente</td>\n",
       "      <td>147600.00</td>\n",
       "      <td>20.0</td>\n",
       "      <td>RUE DOCTEUR SEMMELWEIS</td>\n",
       "      <td>660</td>\n",
       "      <td>0</td>\n",
       "      <td>1</td>\n",
       "      <td>Maison</td>\n",
       "      <td>72.0</td>\n",
       "      <td>4.0</td>\n",
       "      <td>S</td>\n",
       "      <td>sols</td>\n",
       "      <td>385.0</td>\n",
       "      <td>1.092799</td>\n",
       "      <td>49.386935</td>\n",
       "      <td>POINT (1.09280 49.38694)</td>\n",
       "    </tr>\n",
       "    <tr>\n",
       "      <th>34</th>\n",
       "      <td>2019-11-26</td>\n",
       "      <td>1</td>\n",
       "      <td>Vente</td>\n",
       "      <td>192000.00</td>\n",
       "      <td>10.0</td>\n",
       "      <td>RUE MADELEINE LE QUELLEC</td>\n",
       "      <td>1571</td>\n",
       "      <td>0</td>\n",
       "      <td>1</td>\n",
       "      <td>Maison</td>\n",
       "      <td>81.0</td>\n",
       "      <td>4.0</td>\n",
       "      <td>S</td>\n",
       "      <td>sols</td>\n",
       "      <td>264.0</td>\n",
       "      <td>1.087941</td>\n",
       "      <td>49.388882</td>\n",
       "      <td>POINT (1.08794 49.38888)</td>\n",
       "    </tr>\n",
       "    <tr>\n",
       "      <th>100</th>\n",
       "      <td>2018-01-15</td>\n",
       "      <td>1</td>\n",
       "      <td>Vente</td>\n",
       "      <td>188276.83</td>\n",
       "      <td>13.0</td>\n",
       "      <td>RUE DANIELLE CASANOVA</td>\n",
       "      <td>0576</td>\n",
       "      <td>0</td>\n",
       "      <td>1</td>\n",
       "      <td>Maison</td>\n",
       "      <td>91.0</td>\n",
       "      <td>4.0</td>\n",
       "      <td>S</td>\n",
       "      <td>sols</td>\n",
       "      <td>261.0</td>\n",
       "      <td>1.086690</td>\n",
       "      <td>49.389921</td>\n",
       "      <td>POINT (1.08669 49.38992)</td>\n",
       "    </tr>\n",
       "    <tr>\n",
       "      <th>41</th>\n",
       "      <td>2019-06-27</td>\n",
       "      <td>1</td>\n",
       "      <td>Vente</td>\n",
       "      <td>70000.00</td>\n",
       "      <td>191.0</td>\n",
       "      <td>RUE DE LA REPUBLIQUE</td>\n",
       "      <td>2180</td>\n",
       "      <td>0</td>\n",
       "      <td>1</td>\n",
       "      <td>Maison</td>\n",
       "      <td>109.0</td>\n",
       "      <td>6.0</td>\n",
       "      <td>S</td>\n",
       "      <td>sols</td>\n",
       "      <td>121.0</td>\n",
       "      <td>1.105819</td>\n",
       "      <td>49.384365</td>\n",
       "      <td>POINT (1.10582 49.38437)</td>\n",
       "    </tr>\n",
       "    <tr>\n",
       "      <th>95</th>\n",
       "      <td>2018-02-16</td>\n",
       "      <td>1</td>\n",
       "      <td>Vente</td>\n",
       "      <td>110000.00</td>\n",
       "      <td>4.0</td>\n",
       "      <td>RUE AMIRAL CECILLE</td>\n",
       "      <td>90</td>\n",
       "      <td>0</td>\n",
       "      <td>1</td>\n",
       "      <td>Maison</td>\n",
       "      <td>60.0</td>\n",
       "      <td>4.0</td>\n",
       "      <td>S</td>\n",
       "      <td>sols</td>\n",
       "      <td>74.0</td>\n",
       "      <td>1.108184</td>\n",
       "      <td>49.379216</td>\n",
       "      <td>POINT (1.10818 49.37922)</td>\n",
       "    </tr>\n",
       "  </tbody>\n",
       "</table>\n",
       "<p>114 rows × 18 columns</p>\n",
       "</div>"
      ],
      "text/plain": [
       "    date_mutation  numero_disposition nature_mutation  valeur_fonciere  \\\n",
       "110    2019-02-18                   1           Vente        112000.00   \n",
       "121    2018-06-11                   1           Vente        153000.00   \n",
       "132    2017-12-20                   1           Vente        156650.00   \n",
       "146    2017-08-31                   1           Vente        150000.00   \n",
       "34     2020-12-21                   1           Vente        125000.00   \n",
       "..            ...                 ...             ...              ...   \n",
       "121    2017-10-16                   1           Vente        147600.00   \n",
       "34     2019-11-26                   1           Vente        192000.00   \n",
       "100    2018-01-15                   1           Vente        188276.83   \n",
       "41     2019-06-27                   1           Vente         70000.00   \n",
       "95     2018-02-16                   1           Vente        110000.00   \n",
       "\n",
       "     adresse_numero          adresse_nom_voie adresse_code_voie  nombre_lots  \\\n",
       "110             2.0        RUE HECTOR BERLIOZ              1110            0   \n",
       "121            13.0         RUE GEORGES BIZET              1020            0   \n",
       "132            40.0         RUE GEORGES BIZET              1020            0   \n",
       "146             8.0         RUE MAURICE RAVEL              1670            0   \n",
       "34              5.0       RUE GEORGES DE MOOR              1040            0   \n",
       "..              ...                       ...               ...          ...   \n",
       "121            20.0    RUE DOCTEUR SEMMELWEIS               660            0   \n",
       "34             10.0  RUE MADELEINE LE QUELLEC              1571            0   \n",
       "100            13.0     RUE DANIELLE CASANOVA              0576            0   \n",
       "41            191.0      RUE DE LA REPUBLIQUE              2180            0   \n",
       "95              4.0        RUE AMIRAL CECILLE                90            0   \n",
       "\n",
       "     code_type_local type_local  surface_reelle_bati  \\\n",
       "110                1     Maison                 63.0   \n",
       "121                1     Maison                 63.0   \n",
       "132                1     Maison                 86.0   \n",
       "146                1     Maison                 63.0   \n",
       "34                 1     Maison                 57.0   \n",
       "..               ...        ...                  ...   \n",
       "121                1     Maison                 72.0   \n",
       "34                 1     Maison                 81.0   \n",
       "100                1     Maison                 91.0   \n",
       "41                 1     Maison                109.0   \n",
       "95                 1     Maison                 60.0   \n",
       "\n",
       "     nombre_pieces_principales code_nature_culture nature_culture  \\\n",
       "110                        4.0                   S           sols   \n",
       "121                        4.0                   S           sols   \n",
       "132                        5.0                   S           sols   \n",
       "146                        4.0                   S           sols   \n",
       "34                         3.0                   S           sols   \n",
       "..                         ...                 ...            ...   \n",
       "121                        4.0                   S           sols   \n",
       "34                         4.0                   S           sols   \n",
       "100                        4.0                   S           sols   \n",
       "41                         6.0                   S           sols   \n",
       "95                         4.0                   S           sols   \n",
       "\n",
       "     surface_terrain  longitude   latitude               Coordinates  \n",
       "110            263.0   1.061100  49.394313  POINT (1.06110 49.39431)  \n",
       "121            321.0   1.061597  49.394376  POINT (1.06160 49.39438)  \n",
       "132            520.0   1.061879  49.395061  POINT (1.06188 49.39506)  \n",
       "146            408.0   1.060593  49.393065  POINT (1.06059 49.39306)  \n",
       "34              90.0   1.111510  49.377111  POINT (1.11151 49.37711)  \n",
       "..               ...        ...        ...                       ...  \n",
       "121            385.0   1.092799  49.386935  POINT (1.09280 49.38694)  \n",
       "34             264.0   1.087941  49.388882  POINT (1.08794 49.38888)  \n",
       "100            261.0   1.086690  49.389921  POINT (1.08669 49.38992)  \n",
       "41             121.0   1.105819  49.384365  POINT (1.10582 49.38437)  \n",
       "95              74.0   1.108184  49.379216  POINT (1.10818 49.37922)  \n",
       "\n",
       "[114 rows x 18 columns]"
      ]
     },
     "execution_count": 137,
     "metadata": {},
     "output_type": "execute_result"
    }
   ],
   "source": [
    "df"
   ]
  },
  {
   "cell_type": "markdown",
   "id": "f92bb233",
   "metadata": {},
   "source": [
    "## Visualisation :"
   ]
  },
  {
   "cell_type": "code",
   "execution_count": 132,
   "id": "44a1049d",
   "metadata": {},
   "outputs": [
    {
     "data": {
      "image/png": "[encoded data removed]",
      "text/plain": [
       "<Figure size 576x288 with 1 Axes>"
      ]
     },
     "metadata": {},
     "output_type": "display_data"
    },
    {
     "data": {
      "image/png": "[encoded data removed]",
      "text/plain": [
       "<Figure size 576x288 with 1 Axes>"
      ]
     },
     "metadata": {},
     "output_type": "display_data"
    },
    {
     "data": {
      "image/png": "[encoded data removed]",
      "text/plain": [
       "<Figure size 576x288 with 1 Axes>"
      ]
     },
     "metadata": {},
     "output_type": "display_data"
    },
    {
     "data": {
      "image/png": "[encoded data removed]",
      "text/plain": [
       "<Figure size 576x288 with 1 Axes>"
      ]
     },
     "metadata": {},
     "output_type": "display_data"
    }
   ],
   "source": [
    "col = ['nature_mutation','nombre_lots','type_local','nature_culture']\n",
    "for l in col :\n",
    "    counts = df[[l]].apply(pd.value_counts)\n",
    "    counts.plot.pie(subplots=True, figsize=(8, 4))\n",
    "    plt.show()"
   ]
  },
  {
   "cell_type": "code",
   "execution_count": 466,
   "id": "8fdc9a81",
   "metadata": {},
   "outputs": [],
   "source": [
    "df.to_csv('new_merged.csv')"
   ]
  },
  {
   "cell_type": "code",
   "execution_count": 146,
   "id": "0a14c12f",
   "metadata": {},
   "outputs": [
    {
     "data": {
      "image/png": "[encoded data removed]",
      "text/plain": [
       "<Figure size 2160x1440 with 12 Axes>"
      ]
     },
     "metadata": {
      "needs_background": "light"
     },
     "output_type": "display_data"
    }
   ],
   "source": [
    "df.hist(bins=50, figsize=(30,20))\n",
    "plt.show()\n",
    "     "
   ]
  },
  {
   "cell_type": "markdown",
   "id": "898040f3",
   "metadata": {},
   "source": [
    "## Analyse exploratoire des données :\n",
    "On essaie de trouver les valeurs qui influencent les prix :"
   ]
  },
  {
   "cell_type": "code",
   "execution_count": 147,
   "id": "13c0e521",
   "metadata": {},
   "outputs": [
    {
     "data": {
      "image/png": "[encoded data removed]",
      "text/plain": [
       "<Figure size 432x288 with 1 Axes>"
      ]
     },
     "metadata": {
      "needs_background": "light"
     },
     "output_type": "display_data"
    }
   ],
   "source": [
    "from shapely.geometry import Point\n",
    "\n",
    "df['Coordinates'] = df.apply(lambda x: Point((x['longitude'], x['latitude'])), axis=1)\n",
    "gdf = gpd.GeoDataFrame(df, geometry='Coordinates')\n",
    "gdf.plot(column='valeur_fonciere')\n",
    "plt.show()"
   ]
  },
  {
   "cell_type": "code",
   "execution_count": 135,
   "id": "384923a6",
   "metadata": {},
   "outputs": [
    {
     "data": {
      "image/png": "[encoded data removed]",
      "text/plain": [
       "<Figure size 576x432 with 1 Axes>"
      ]
     },
     "metadata": {
      "needs_background": "light"
     },
     "output_type": "display_data"
    },
    {
     "data": {
      "image/png": "[encoded data removed]",
      "text/plain": [
       "<Figure size 576x432 with 1 Axes>"
      ]
     },
     "metadata": {
      "needs_background": "light"
     },
     "output_type": "display_data"
    },
    {
     "data": {
      "image/png": "[encoded data removed]",
      "text/plain": [
       "<Figure size 576x432 with 1 Axes>"
      ]
     },
     "metadata": {
      "needs_background": "light"
     },
     "output_type": "display_data"
    },
    {
     "data": {
      "image/png": "[encoded data removed]",
      "text/plain": [
       "<Figure size 576x432 with 1 Axes>"
      ]
     },
     "metadata": {
      "needs_background": "light"
     },
     "output_type": "display_data"
    }
   ],
   "source": [
    "\"\"\"largest = df['surface_terrain'].nlargest(10)\n",
    "df = df.drop(largest.index)\n",
    "\"\"\"\n",
    "col2 = ['surface_terrain', 'nombre_pieces_principales','surface_reelle_bati','code_type_local']\n",
    "for l in col2 :\n",
    "    fig, ax = plt.subplots(figsize=(8,6))\n",
    "    ax.scatter( df[[l]],df['valeur_fonciere'])\n",
    "    plt.title('valeur foncière en fonction de' + l)\n",
    "    plt.show()"
   ]
  },
  {
   "cell_type": "code",
   "execution_count": null,
   "id": "9d678867",
   "metadata": {},
   "outputs": [],
   "source": []
  },
  {
   "cell_type": "code",
   "execution_count": 136,
   "id": "333b0519",
   "metadata": {},
   "outputs": [
    {
     "data": {
      "image/png": "[encoded data removed]",
      "text/plain": [
       "<Figure size 720x720 with 2 Axes>"
      ]
     },
     "metadata": {
      "needs_background": "light"
     },
     "output_type": "display_data"
    }
   ],
   "source": [
    "sns.heatmap(df.corr(), annot=True)\n",
    "fig = plt.gcf()\n",
    "fig.set_size_inches(10, 10)\n",
    "plt.show()"
   ]
  },
  {
   "cell_type": "markdown",
   "id": "b0f12188",
   "metadata": {},
   "source": [
    "## Régression linéaire :"
   ]
  },
  {
   "cell_type": "code",
   "execution_count": 138,
   "id": "46910b02",
   "metadata": {},
   "outputs": [],
   "source": [
    "X = df[['code_type_local','surface_reelle_bati','surface_terrain','nombre_pieces_principales']]\n",
    "y = df['valeur_fonciere']"
   ]
  },
  {
   "cell_type": "code",
   "execution_count": 139,
   "id": "7ca5e3f3",
   "metadata": {},
   "outputs": [],
   "source": [
    "from sklearn.model_selection import train_test_split"
   ]
  },
  {
   "cell_type": "code",
   "execution_count": 140,
   "id": "3b0beaa3",
   "metadata": {},
   "outputs": [],
   "source": [
    "X_train, X_test, y_train, y_test = train_test_split(X, y, test_size=0.4, random_state=101)"
   ]
  },
  {
   "cell_type": "code",
   "execution_count": 141,
   "id": "bf9d3d71",
   "metadata": {},
   "outputs": [
    {
     "data": {
      "text/plain": [
       "LinearRegression()"
      ]
     },
     "execution_count": 141,
     "metadata": {},
     "output_type": "execute_result"
    }
   ],
   "source": [
    "from sklearn.linear_model import LinearRegression\n",
    "lm = LinearRegression()\n",
    "lm.fit(X_train,y_train)"
   ]
  },
  {
   "cell_type": "code",
   "execution_count": 142,
   "id": "2864cad7",
   "metadata": {},
   "outputs": [
    {
     "name": "stdout",
     "output_type": "stream",
     "text": [
      "188044.91585827494\n"
     ]
    },
    {
     "data": {
      "text/plain": [
       "'Accuracy: 30%'"
      ]
     },
     "execution_count": 142,
     "metadata": {},
     "output_type": "execute_result"
    }
   ],
   "source": [
    "print(lm.intercept_)\n",
    "accuracy = lm.score(X_test, y_test)\n",
    "\"Accuracy: {}%\".format(int(round(accuracy * 100)))"
   ]
  },
  {
   "cell_type": "code",
   "execution_count": 143,
   "id": "5bc4c658",
   "metadata": {},
   "outputs": [
    {
     "data": {
      "text/html": [
       "<div>\n",
       "<style scoped>\n",
       "    .dataframe tbody tr th:only-of-type {\n",
       "        vertical-align: middle;\n",
       "    }\n",
       "\n",
       "    .dataframe tbody tr th {\n",
       "        vertical-align: top;\n",
       "    }\n",
       "\n",
       "    .dataframe thead th {\n",
       "        text-align: right;\n",
       "    }\n",
       "</style>\n",
       "<table border=\"1\" class=\"dataframe\">\n",
       "  <thead>\n",
       "    <tr style=\"text-align: right;\">\n",
       "      <th></th>\n",
       "      <th>Coefficient</th>\n",
       "    </tr>\n",
       "  </thead>\n",
       "  <tbody>\n",
       "    <tr>\n",
       "      <th>code_type_local</th>\n",
       "      <td>-108321.859141</td>\n",
       "    </tr>\n",
       "    <tr>\n",
       "      <th>surface_reelle_bati</th>\n",
       "      <td>415.049830</td>\n",
       "    </tr>\n",
       "    <tr>\n",
       "      <th>surface_terrain</th>\n",
       "      <td>92.617960</td>\n",
       "    </tr>\n",
       "    <tr>\n",
       "      <th>nombre_pieces_principales</th>\n",
       "      <td>2430.844288</td>\n",
       "    </tr>\n",
       "  </tbody>\n",
       "</table>\n",
       "</div>"
      ],
      "text/plain": [
       "                             Coefficient\n",
       "code_type_local           -108321.859141\n",
       "surface_reelle_bati           415.049830\n",
       "surface_terrain                92.617960\n",
       "nombre_pieces_principales    2430.844288"
      ]
     },
     "execution_count": 143,
     "metadata": {},
     "output_type": "execute_result"
    }
   ],
   "source": [
    "coeff_df = pd.DataFrame(lm.coef_,X.columns,columns=['Coefficient'])\n",
    "\n",
    "coeff_df"
   ]
  },
  {
   "cell_type": "code",
   "execution_count": 144,
   "id": "8d6c0827",
   "metadata": {},
   "outputs": [],
   "source": [
    "predictions = lm.predict(X_test)"
   ]
  },
  {
   "cell_type": "code",
   "execution_count": 145,
   "id": "21c8d93d",
   "metadata": {},
   "outputs": [
    {
     "data": {
      "text/plain": [
       "(0.0, 2000000.0)"
      ]
     },
     "execution_count": 145,
     "metadata": {},
     "output_type": "execute_result"
    },
    {
     "data": {
      "image/png": "[encoded data removed]",
      "text/plain": [
       "<Figure size 720x720 with 1 Axes>"
      ]
     },
     "metadata": {
      "needs_background": "light"
     },
     "output_type": "display_data"
    }
   ],
   "source": [
    "#plt.ticklabel_format(style = 'plain')\n",
    "fig, ax = plt.subplots(figsize=(10,10))\n",
    "ax.scatter(y_test,predictions)\n",
    "ax.set_xlim(0,2000000 )\n",
    "ax.set_ylim(0,2000000 )"
   ]
  },
  {
   "cell_type": "code",
   "execution_count": 662,
   "id": "28f7638c",
   "metadata": {},
   "outputs": [
    {
     "name": "stderr",
     "output_type": "stream",
     "text": [
      "/home/hiba/.local/lib/python3.8/site-packages/seaborn/distributions.py:2619: FutureWarning: `distplot` is a deprecated function and will be removed in a future version. Please adapt your code to use either `displot` (a figure-level function with similar flexibility) or `histplot` (an axes-level function for histograms).\n",
      "  warnings.warn(msg, FutureWarning)\n"
     ]
    },
    {
     "data": {
      "image/png": "[encoded data removed]",
      "text/plain": [
       "<Figure size 432x288 with 1 Axes>"
      ]
     },
     "metadata": {
      "needs_background": "light"
     },
     "output_type": "display_data"
    }
   ],
   "source": [
    "sns.distplot((y_test-predictions),bins=30)\n",
    "ax = plt.gca()\n",
    "ax.ticklabel_format(style='plain')\n",
    "\n",
    "# Show the plot\n",
    "plt.show()"
   ]
  },
  {
   "cell_type": "code",
   "execution_count": 663,
   "id": "349bade3",
   "metadata": {},
   "outputs": [
    {
     "name": "stdout",
     "output_type": "stream",
     "text": [
      "MAE: 45101.54788657532\n",
      "MSE: 7565036541.354784\n",
      "RMSE: 86977.21851930415\n"
     ]
    }
   ],
   "source": [
    "from sklearn import metrics\n",
    "\n",
    "print('MAE:', metrics.mean_absolute_error(y_test, predictions))\n",
    "print('MSE:', metrics.mean_squared_error(y_test, predictions))\n",
    "print('RMSE:', np.sqrt(metrics.mean_squared_error(y_test, predictions)))"
   ]
  },
  {
   "cell_type": "code",
   "execution_count": 690,
   "id": "a1c7d380",
   "metadata": {},
   "outputs": [],
   "source": [
    "#lasso :\n",
    "from sklearn.linear_model import Lasso\n",
    "\n",
    "y = df['valeur_fonciere']\n",
    "X = df.drop(['valeur_fonciere'],axis=1)\n",
    "X = X.drop([\"date_mutation\",\"type_local\",\"nature_culture\",\"Coordinates\"],axis=1)\n",
    "X_train, X_test, y_train, y_test = train_test_split(X.values, y.values, test_size=0.33, random_state=42, shuffle=True)"
   ]
  },
  {
   "cell_type": "code",
   "execution_count": null,
   "id": "5c9115ce",
   "metadata": {},
   "outputs": [],
   "source": []
  },
  {
   "cell_type": "code",
   "execution_count": 691,
   "id": "95d84aba",
   "metadata": {},
   "outputs": [
    {
     "name": "stderr",
     "output_type": "stream",
     "text": [
      "/home/hiba/.local/lib/python3.8/site-packages/sklearn/linear_model/_base.py:141: FutureWarning: 'normalize' was deprecated in version 1.0 and will be removed in 1.2.\n",
      "If you wish to scale the data, use Pipeline with a StandardScaler in a preprocessing stage. To reproduce the previous behavior:\n",
      "\n",
      "from sklearn.pipeline import make_pipeline\n",
      "\n",
      "model = make_pipeline(StandardScaler(with_mean=False), Lasso())\n",
      "\n",
      "If you wish to pass a sample_weight parameter, you need to pass it as a fit parameter to each step of the pipeline as follows:\n",
      "\n",
      "kwargs = {s[0] + '__sample_weight': sample_weight for s in model.steps}\n",
      "model.fit(X, y, **kwargs)\n",
      "\n",
      "Set parameter alpha to: original_alpha * np.sqrt(n_samples). \n",
      "  warnings.warn(\n"
     ]
    },
    {
     "data": {
      "text/plain": [
       "Lasso(alpha=0.4, normalize=True)"
      ]
     },
     "execution_count": 691,
     "metadata": {},
     "output_type": "execute_result"
    }
   ],
   "source": [
    "lasso = Lasso(alpha=0.4, normalize=True)\n",
    "lasso.fit(X_train,y_train)"
   ]
  },
  {
   "cell_type": "code",
   "execution_count": 693,
   "id": "99206f7a",
   "metadata": {},
   "outputs": [],
   "source": [
    "lasso_df = pd.DataFrame(np.array([lasso.coef_]), columns=X.columns)\n",
    "\n",
    "for col in lasso_df.columns:\n",
    "    if lasso_df[col].iloc[0]<1000:\n",
    "        lasso_df.drop(col, axis=1, inplace=True)"
   ]
  },
  {
   "cell_type": "code",
   "execution_count": 694,
   "id": "f1afa52d",
   "metadata": {},
   "outputs": [
    {
     "data": {
      "image/png": "[encoded data removed]",
      "text/plain": [
       "<Figure size 1440x720 with 1 Axes>"
      ]
     },
     "metadata": {
      "needs_background": "light"
     },
     "output_type": "display_data"
    }
   ],
   "source": [
    "col_rang = range(len(lasso_df.columns))\n",
    "\n",
    "plt.figure(figsize=(20,10))\n",
    "plt.bar(col_rang, lasso_df.iloc[0])\n",
    "plt.xticks(col_rang, lasso_df.columns, rotation=60)\n",
    "plt.margins(0.02)\n",
    "plt.show()"
   ]
  },
  {
   "cell_type": "code",
   "execution_count": null,
   "id": "447fd5e5",
   "metadata": {},
   "outputs": [],
   "source": []
  }
 ],
 "metadata": {
  "kernelspec": {
   "display_name": "Python 3 (ipykernel)",
   "language": "python",
   "name": "python3"
  },
  "language_info": {
   "codemirror_mode": {
    "name": "ipython",
    "version": 3
   },
   "file_extension": ".py",
   "mimetype": "text/x-python",
   "name": "python",
   "nbconvert_exporter": "python",
   "pygments_lexer": "ipython3",
   "version": "3.8.13"
  }
 },
 "nbformat": 4,
 "nbformat_minor": 5
}
